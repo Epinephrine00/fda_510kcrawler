{
 "cells": [
  {
   "cell_type": "code",
   "execution_count": 1,
   "metadata": {},
   "outputs": [],
   "source": [
    "from lib34 import *\n",
    "from selenium.common.exceptions import NoSuchElementException"
   ]
  },
  {
   "cell_type": "code",
   "execution_count": 2,
   "metadata": {},
   "outputs": [],
   "source": [
    "\n",
    "driver.implicitly_wait(0.1)"
   ]
  },
  {
   "cell_type": "code",
   "execution_count": 3,
   "metadata": {},
   "outputs": [],
   "source": [
    "driver.get('https://www.accessdata.fda.gov/scripts/cdrh/cfdocs/cfPMN/pmn.cfm')\n",
    "\n",
    "\n",
    "driver.find_element(By.XPATH, '//*[@id=\"Applicant\"]').send_keys('JLK')\n",
    "driver.find_element(By.XPATH, '//*[@id=\"pmn-form\"]/form/table[2]/tbody/tr/td/table/tbody/tr[9]/td[2]/input').click()\n"
   ]
  },
  {
   "cell_type": "code",
   "execution_count": 4,
   "metadata": {},
   "outputs": [
    {
     "name": "stdout",
     "output_type": "stream",
     "text": [
      "done!\n",
      "True\n"
     ]
    }
   ],
   "source": [
    "while True:\n",
    "    try:\n",
    "        driver.find_element(By.XPATH, '//*[@id=\"pmn-form\"]/form/table[2]/tbody/tr/td/table/tbody/tr[9]/td[2]/input').click()\n",
    "        continue\n",
    "    except NoSuchElementException:\n",
    "        break\n",
    "print('done!')\n",
    "\n",
    "\n",
    "listicData = False\n",
    "if driver.current_url == 'https://www.accessdata.fda.gov/scripts/cdrh/cfdocs/cfPMN/pmn.cfm':\n",
    "    listicData = True\n",
    "\n",
    "print(listicData)\n"
   ]
  },
  {
   "cell_type": "code",
   "execution_count": 5,
   "metadata": {},
   "outputs": [],
   "source": [
    "\n",
    "#driver.close()"
   ]
  }
 ],
 "metadata": {
  "kernelspec": {
   "display_name": "Python 3",
   "language": "python",
   "name": "python3"
  },
  "language_info": {
   "codemirror_mode": {
    "name": "ipython",
    "version": 3
   },
   "file_extension": ".py",
   "mimetype": "text/x-python",
   "name": "python",
   "nbconvert_exporter": "python",
   "pygments_lexer": "ipython3",
   "version": "3.12.0"
  }
 },
 "nbformat": 4,
 "nbformat_minor": 2
}
